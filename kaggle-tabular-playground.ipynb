{
 "cells": [
  {
   "cell_type": "code",
   "execution_count": 96,
   "id": "5d9aa716",
   "metadata": {
    "_cell_guid": "b1076dfc-b9ad-4769-8c92-a6c4dae69d19",
    "_uuid": "8f2839f25d086af736a60e9eeb907d3b93b6e0e5",
    "execution": {
     "iopub.execute_input": "2022-09-25T13:53:55.515794Z",
     "iopub.status.busy": "2022-09-25T13:53:55.515043Z",
     "iopub.status.idle": "2022-09-25T13:53:55.527594Z",
     "shell.execute_reply": "2022-09-25T13:53:55.526855Z"
    },
    "papermill": {
     "duration": 0.022727,
     "end_time": "2022-09-25T13:53:55.529956",
     "exception": false,
     "start_time": "2022-09-25T13:53:55.507229",
     "status": "completed"
    },
    "tags": []
   },
   "outputs": [],
   "source": [
    "import numpy as np \n",
    "import pandas as pd "
   ]
  },
  {
   "cell_type": "code",
   "execution_count": 97,
   "id": "832a00fc",
   "metadata": {
    "execution": {
     "iopub.execute_input": "2022-09-25T13:53:55.541532Z",
     "iopub.status.busy": "2022-09-25T13:53:55.540926Z",
     "iopub.status.idle": "2022-09-25T13:53:55.708577Z",
     "shell.execute_reply": "2022-09-25T13:53:55.707469Z"
    },
    "papermill": {
     "duration": 0.175987,
     "end_time": "2022-09-25T13:53:55.710955",
     "exception": false,
     "start_time": "2022-09-25T13:53:55.534968",
     "status": "completed"
    },
    "tags": []
   },
   "outputs": [],
   "source": [
    "test = pd.read_csv('data/playground_test.csv')\n",
    "train = pd.read_csv('data/playground_train.csv')"
   ]
  },
  {
   "cell_type": "code",
   "execution_count": 98,
   "id": "2e5f17cf",
   "metadata": {
    "execution": {
     "iopub.execute_input": "2022-09-25T13:53:55.726201Z",
     "iopub.status.busy": "2022-09-25T13:53:55.725802Z",
     "iopub.status.idle": "2022-09-25T13:53:55.754183Z",
     "shell.execute_reply": "2022-09-25T13:53:55.753022Z"
    },
    "papermill": {
     "duration": 0.037232,
     "end_time": "2022-09-25T13:53:55.756584",
     "exception": false,
     "start_time": "2022-09-25T13:53:55.719352",
     "status": "completed"
    },
    "tags": []
   },
   "outputs": [
    {
     "data": {
      "text/html": [
       "<div>\n",
       "<style scoped>\n",
       "    .dataframe tbody tr th:only-of-type {\n",
       "        vertical-align: middle;\n",
       "    }\n",
       "\n",
       "    .dataframe tbody tr th {\n",
       "        vertical-align: top;\n",
       "    }\n",
       "\n",
       "    .dataframe thead th {\n",
       "        text-align: right;\n",
       "    }\n",
       "</style>\n",
       "<table border=\"1\" class=\"dataframe\">\n",
       "  <thead>\n",
       "    <tr style=\"text-align: right;\">\n",
       "      <th></th>\n",
       "      <th>row_id</th>\n",
       "      <th>date</th>\n",
       "      <th>country</th>\n",
       "      <th>store</th>\n",
       "      <th>product</th>\n",
       "      <th>num_sold</th>\n",
       "    </tr>\n",
       "  </thead>\n",
       "  <tbody>\n",
       "    <tr>\n",
       "      <th>70123</th>\n",
       "      <td>70123</td>\n",
       "      <td>2020-12-31</td>\n",
       "      <td>Spain</td>\n",
       "      <td>KaggleMart</td>\n",
       "      <td>Kaggle for Kids: One Smart Goose</td>\n",
       "      <td>614</td>\n",
       "    </tr>\n",
       "    <tr>\n",
       "      <th>70124</th>\n",
       "      <td>70124</td>\n",
       "      <td>2020-12-31</td>\n",
       "      <td>Spain</td>\n",
       "      <td>KaggleRama</td>\n",
       "      <td>Kaggle Advanced Techniques</td>\n",
       "      <td>215</td>\n",
       "    </tr>\n",
       "    <tr>\n",
       "      <th>70125</th>\n",
       "      <td>70125</td>\n",
       "      <td>2020-12-31</td>\n",
       "      <td>Spain</td>\n",
       "      <td>KaggleRama</td>\n",
       "      <td>Kaggle Getting Started</td>\n",
       "      <td>158</td>\n",
       "    </tr>\n",
       "    <tr>\n",
       "      <th>70126</th>\n",
       "      <td>70126</td>\n",
       "      <td>2020-12-31</td>\n",
       "      <td>Spain</td>\n",
       "      <td>KaggleRama</td>\n",
       "      <td>Kaggle Recipe Book</td>\n",
       "      <td>135</td>\n",
       "    </tr>\n",
       "    <tr>\n",
       "      <th>70127</th>\n",
       "      <td>70127</td>\n",
       "      <td>2020-12-31</td>\n",
       "      <td>Spain</td>\n",
       "      <td>KaggleRama</td>\n",
       "      <td>Kaggle for Kids: One Smart Goose</td>\n",
       "      <td>202</td>\n",
       "    </tr>\n",
       "  </tbody>\n",
       "</table>\n",
       "</div>"
      ],
      "text/plain": [
       "       row_id        date country       store  \\\n",
       "70123   70123  2020-12-31   Spain  KaggleMart   \n",
       "70124   70124  2020-12-31   Spain  KaggleRama   \n",
       "70125   70125  2020-12-31   Spain  KaggleRama   \n",
       "70126   70126  2020-12-31   Spain  KaggleRama   \n",
       "70127   70127  2020-12-31   Spain  KaggleRama   \n",
       "\n",
       "                                product  num_sold  \n",
       "70123  Kaggle for Kids: One Smart Goose       614  \n",
       "70124        Kaggle Advanced Techniques       215  \n",
       "70125            Kaggle Getting Started       158  \n",
       "70126                Kaggle Recipe Book       135  \n",
       "70127  Kaggle for Kids: One Smart Goose       202  "
      ]
     },
     "execution_count": 98,
     "metadata": {},
     "output_type": "execute_result"
    }
   ],
   "source": [
    "train.tail()"
   ]
  },
  {
   "cell_type": "code",
   "execution_count": 99,
   "id": "42cac520",
   "metadata": {
    "execution": {
     "iopub.execute_input": "2022-09-25T13:53:55.769203Z",
     "iopub.status.busy": "2022-09-25T13:53:55.768121Z",
     "iopub.status.idle": "2022-09-25T13:53:55.780605Z",
     "shell.execute_reply": "2022-09-25T13:53:55.779619Z"
    },
    "papermill": {
     "duration": 0.021083,
     "end_time": "2022-09-25T13:53:55.782889",
     "exception": false,
     "start_time": "2022-09-25T13:53:55.761806",
     "status": "completed"
    },
    "tags": []
   },
   "outputs": [
    {
     "data": {
      "text/html": [
       "<div>\n",
       "<style scoped>\n",
       "    .dataframe tbody tr th:only-of-type {\n",
       "        vertical-align: middle;\n",
       "    }\n",
       "\n",
       "    .dataframe tbody tr th {\n",
       "        vertical-align: top;\n",
       "    }\n",
       "\n",
       "    .dataframe thead th {\n",
       "        text-align: right;\n",
       "    }\n",
       "</style>\n",
       "<table border=\"1\" class=\"dataframe\">\n",
       "  <thead>\n",
       "    <tr style=\"text-align: right;\">\n",
       "      <th></th>\n",
       "      <th>row_id</th>\n",
       "      <th>date</th>\n",
       "      <th>country</th>\n",
       "      <th>store</th>\n",
       "      <th>product</th>\n",
       "    </tr>\n",
       "  </thead>\n",
       "  <tbody>\n",
       "    <tr>\n",
       "      <th>17515</th>\n",
       "      <td>87643</td>\n",
       "      <td>2021-12-31</td>\n",
       "      <td>Spain</td>\n",
       "      <td>KaggleMart</td>\n",
       "      <td>Kaggle for Kids: One Smart Goose</td>\n",
       "    </tr>\n",
       "    <tr>\n",
       "      <th>17516</th>\n",
       "      <td>87644</td>\n",
       "      <td>2021-12-31</td>\n",
       "      <td>Spain</td>\n",
       "      <td>KaggleRama</td>\n",
       "      <td>Kaggle Advanced Techniques</td>\n",
       "    </tr>\n",
       "    <tr>\n",
       "      <th>17517</th>\n",
       "      <td>87645</td>\n",
       "      <td>2021-12-31</td>\n",
       "      <td>Spain</td>\n",
       "      <td>KaggleRama</td>\n",
       "      <td>Kaggle Getting Started</td>\n",
       "    </tr>\n",
       "    <tr>\n",
       "      <th>17518</th>\n",
       "      <td>87646</td>\n",
       "      <td>2021-12-31</td>\n",
       "      <td>Spain</td>\n",
       "      <td>KaggleRama</td>\n",
       "      <td>Kaggle Recipe Book</td>\n",
       "    </tr>\n",
       "    <tr>\n",
       "      <th>17519</th>\n",
       "      <td>87647</td>\n",
       "      <td>2021-12-31</td>\n",
       "      <td>Spain</td>\n",
       "      <td>KaggleRama</td>\n",
       "      <td>Kaggle for Kids: One Smart Goose</td>\n",
       "    </tr>\n",
       "  </tbody>\n",
       "</table>\n",
       "</div>"
      ],
      "text/plain": [
       "       row_id        date country       store  \\\n",
       "17515   87643  2021-12-31   Spain  KaggleMart   \n",
       "17516   87644  2021-12-31   Spain  KaggleRama   \n",
       "17517   87645  2021-12-31   Spain  KaggleRama   \n",
       "17518   87646  2021-12-31   Spain  KaggleRama   \n",
       "17519   87647  2021-12-31   Spain  KaggleRama   \n",
       "\n",
       "                                product  \n",
       "17515  Kaggle for Kids: One Smart Goose  \n",
       "17516        Kaggle Advanced Techniques  \n",
       "17517            Kaggle Getting Started  \n",
       "17518                Kaggle Recipe Book  \n",
       "17519  Kaggle for Kids: One Smart Goose  "
      ]
     },
     "execution_count": 99,
     "metadata": {},
     "output_type": "execute_result"
    }
   ],
   "source": [
    "test.tail()"
   ]
  },
  {
   "cell_type": "code",
   "execution_count": 100,
   "id": "e718dde1",
   "metadata": {
    "execution": {
     "iopub.execute_input": "2022-09-25T13:53:55.795880Z",
     "iopub.status.busy": "2022-09-25T13:53:55.795250Z",
     "iopub.status.idle": "2022-09-25T13:53:55.832489Z",
     "shell.execute_reply": "2022-09-25T13:53:55.831229Z"
    },
    "papermill": {
     "duration": 0.046727,
     "end_time": "2022-09-25T13:53:55.835103",
     "exception": false,
     "start_time": "2022-09-25T13:53:55.788376",
     "status": "completed"
    },
    "tags": []
   },
   "outputs": [
    {
     "name": "stdout",
     "output_type": "stream",
     "text": [
      "<class 'pandas.core.frame.DataFrame'>\n",
      "RangeIndex: 70128 entries, 0 to 70127\n",
      "Data columns (total 6 columns):\n",
      " #   Column    Non-Null Count  Dtype \n",
      "---  ------    --------------  ----- \n",
      " 0   row_id    70128 non-null  int64 \n",
      " 1   date      70128 non-null  object\n",
      " 2   country   70128 non-null  object\n",
      " 3   store     70128 non-null  object\n",
      " 4   product   70128 non-null  object\n",
      " 5   num_sold  70128 non-null  int64 \n",
      "dtypes: int64(2), object(4)\n",
      "memory usage: 3.2+ MB\n"
     ]
    }
   ],
   "source": [
    "train.info()"
   ]
  },
  {
   "cell_type": "code",
   "execution_count": 101,
   "id": "301a33d0",
   "metadata": {
    "execution": {
     "iopub.execute_input": "2022-09-25T13:53:55.847585Z",
     "iopub.status.busy": "2022-09-25T13:53:55.846795Z",
     "iopub.status.idle": "2022-09-25T13:53:55.868566Z",
     "shell.execute_reply": "2022-09-25T13:53:55.867511Z"
    },
    "papermill": {
     "duration": 0.030604,
     "end_time": "2022-09-25T13:53:55.871065",
     "exception": false,
     "start_time": "2022-09-25T13:53:55.840461",
     "status": "completed"
    },
    "tags": []
   },
   "outputs": [
    {
     "data": {
      "text/plain": [
       "row_id      0\n",
       "date        0\n",
       "country     0\n",
       "store       0\n",
       "product     0\n",
       "num_sold    0\n",
       "dtype: int64"
      ]
     },
     "execution_count": 101,
     "metadata": {},
     "output_type": "execute_result"
    }
   ],
   "source": [
    "train.isnull().sum()"
   ]
  },
  {
   "cell_type": "markdown",
   "id": "e1c28061",
   "metadata": {
    "papermill": {
     "duration": 0.005311,
     "end_time": "2022-09-25T13:53:55.882097",
     "exception": false,
     "start_time": "2022-09-25T13:53:55.876786",
     "status": "completed"
    },
    "tags": []
   },
   "source": [
    "# ***Building a Pipeline***"
   ]
  },
  {
   "cell_type": "code",
   "execution_count": 102,
   "id": "bb49bc2b",
   "metadata": {
    "execution": {
     "iopub.execute_input": "2022-09-25T13:53:55.895226Z",
     "iopub.status.busy": "2022-09-25T13:53:55.894238Z",
     "iopub.status.idle": "2022-09-25T13:53:57.036410Z",
     "shell.execute_reply": "2022-09-25T13:53:57.035407Z"
    },
    "papermill": {
     "duration": 1.152111,
     "end_time": "2022-09-25T13:53:57.039624",
     "exception": false,
     "start_time": "2022-09-25T13:53:55.887513",
     "status": "completed"
    },
    "tags": []
   },
   "outputs": [],
   "source": [
    "from sklearn.model_selection import train_test_split\n",
    "from sklearn.metrics import mean_absolute_error\n",
    "from xgboost import XGBRegressor\n"
   ]
  },
  {
   "cell_type": "code",
   "execution_count": 103,
   "id": "9e763a53",
   "metadata": {
    "execution": {
     "iopub.execute_input": "2022-09-25T13:53:57.079509Z",
     "iopub.status.busy": "2022-09-25T13:53:57.079142Z",
     "iopub.status.idle": "2022-09-25T13:53:57.132421Z",
     "shell.execute_reply": "2022-09-25T13:53:57.130532Z"
    },
    "papermill": {
     "duration": 0.062416,
     "end_time": "2022-09-25T13:53:57.134856",
     "exception": false,
     "start_time": "2022-09-25T13:53:57.072440",
     "status": "completed"
    },
    "tags": []
   },
   "outputs": [
    {
     "data": {
      "text/html": [
       "<div>\n",
       "<style scoped>\n",
       "    .dataframe tbody tr th:only-of-type {\n",
       "        vertical-align: middle;\n",
       "    }\n",
       "\n",
       "    .dataframe tbody tr th {\n",
       "        vertical-align: top;\n",
       "    }\n",
       "\n",
       "    .dataframe thead th {\n",
       "        text-align: right;\n",
       "    }\n",
       "</style>\n",
       "<table border=\"1\" class=\"dataframe\">\n",
       "  <thead>\n",
       "    <tr style=\"text-align: right;\">\n",
       "      <th></th>\n",
       "      <th>date</th>\n",
       "      <th>country</th>\n",
       "      <th>store</th>\n",
       "      <th>product</th>\n",
       "    </tr>\n",
       "  </thead>\n",
       "  <tbody>\n",
       "    <tr>\n",
       "      <th>0</th>\n",
       "      <td>20210101</td>\n",
       "      <td>Belgium</td>\n",
       "      <td>KaggleMart</td>\n",
       "      <td>Kaggle Advanced Techniques</td>\n",
       "    </tr>\n",
       "    <tr>\n",
       "      <th>1</th>\n",
       "      <td>20210101</td>\n",
       "      <td>Belgium</td>\n",
       "      <td>KaggleMart</td>\n",
       "      <td>Kaggle Getting Started</td>\n",
       "    </tr>\n",
       "    <tr>\n",
       "      <th>2</th>\n",
       "      <td>20210101</td>\n",
       "      <td>Belgium</td>\n",
       "      <td>KaggleMart</td>\n",
       "      <td>Kaggle Recipe Book</td>\n",
       "    </tr>\n",
       "    <tr>\n",
       "      <th>3</th>\n",
       "      <td>20210101</td>\n",
       "      <td>Belgium</td>\n",
       "      <td>KaggleMart</td>\n",
       "      <td>Kaggle for Kids: One Smart Goose</td>\n",
       "    </tr>\n",
       "    <tr>\n",
       "      <th>4</th>\n",
       "      <td>20210101</td>\n",
       "      <td>Belgium</td>\n",
       "      <td>KaggleRama</td>\n",
       "      <td>Kaggle Advanced Techniques</td>\n",
       "    </tr>\n",
       "  </tbody>\n",
       "</table>\n",
       "</div>"
      ],
      "text/plain": [
       "       date  country       store                           product\n",
       "0  20210101  Belgium  KaggleMart        Kaggle Advanced Techniques\n",
       "1  20210101  Belgium  KaggleMart            Kaggle Getting Started\n",
       "2  20210101  Belgium  KaggleMart                Kaggle Recipe Book\n",
       "3  20210101  Belgium  KaggleMart  Kaggle for Kids: One Smart Goose\n",
       "4  20210101  Belgium  KaggleRama        Kaggle Advanced Techniques"
      ]
     },
     "execution_count": 103,
     "metadata": {},
     "output_type": "execute_result"
    }
   ],
   "source": [
    "train['date'] = train['date'].map(lambda x: x.replace('-', ''))\n",
    "test['date'] = test['date'].map(lambda x: x.replace('-', ''))\n",
    "\n",
    "test = test.drop('row_id', axis=1)\n",
    "test.head()"
   ]
  },
  {
   "cell_type": "code",
   "execution_count": 104,
   "id": "4bf25f13",
   "metadata": {
    "execution": {
     "iopub.execute_input": "2022-09-25T13:53:57.152003Z",
     "iopub.status.busy": "2022-09-25T13:53:57.151322Z",
     "iopub.status.idle": "2022-09-25T13:53:57.184600Z",
     "shell.execute_reply": "2022-09-25T13:53:57.183107Z"
    },
    "papermill": {
     "duration": 0.044513,
     "end_time": "2022-09-25T13:53:57.187963",
     "exception": false,
     "start_time": "2022-09-25T13:53:57.143450",
     "status": "completed"
    },
    "tags": []
   },
   "outputs": [],
   "source": [
    "features = ['date', 'country', 'store', 'product']\n",
    "X = train[features]\n",
    "y = train['num_sold']\n",
    "\n",
    "X_train, X_test, y_train, y_test = train_test_split(X, y, random_state=123)\n",
    "\n"
   ]
  },
  {
   "cell_type": "code",
   "execution_count": 105,
   "id": "ba0bbac0",
   "metadata": {
    "execution": {
     "iopub.execute_input": "2022-09-25T13:53:57.202347Z",
     "iopub.status.busy": "2022-09-25T13:53:57.201547Z",
     "iopub.status.idle": "2022-09-25T13:53:57.239537Z",
     "shell.execute_reply": "2022-09-25T13:53:57.237887Z"
    },
    "papermill": {
     "duration": 0.048354,
     "end_time": "2022-09-25T13:53:57.242316",
     "exception": false,
     "start_time": "2022-09-25T13:53:57.193962",
     "status": "completed"
    },
    "tags": []
   },
   "outputs": [
    {
     "name": "stdout",
     "output_type": "stream",
     "text": [
      "Categorical columns: ['country', 'store', 'product']\n",
      " Numerical Columns:['date']\n"
     ]
    }
   ],
   "source": [
    "# gather categorical columns\n",
    "categorical_cols = [cname for cname in X_train.columns if X_train[cname].nunique() < 10 and\n",
    "                   X_train[cname].dtype == 'object']\n",
    "\n",
    "# gather numerical columns \n",
    "numerical_cols = [cname for cname in X_train.columns if \n",
    "                 X_train[cname].dtype in ['int64', 'float64']]\n",
    "\n",
    "numerical_cols.append('date')\n",
    "\n",
    "print(f'Categorical columns: {categorical_cols}\\n Numerical Columns:{numerical_cols}')"
   ]
  },
  {
   "cell_type": "code",
   "execution_count": 106,
   "id": "3a4904c4",
   "metadata": {
    "execution": {
     "iopub.execute_input": "2022-09-25T13:53:57.256428Z",
     "iopub.status.busy": "2022-09-25T13:53:57.255407Z",
     "iopub.status.idle": "2022-09-25T13:53:57.388446Z",
     "shell.execute_reply": "2022-09-25T13:53:57.387286Z"
    },
    "papermill": {
     "duration": 0.142909,
     "end_time": "2022-09-25T13:53:57.391223",
     "exception": false,
     "start_time": "2022-09-25T13:53:57.248314",
     "status": "completed"
    },
    "tags": []
   },
   "outputs": [],
   "source": [
    "from sklearn.compose import ColumnTransformer\n",
    "from sklearn.pipeline import Pipeline\n",
    "from sklearn.impute import SimpleImputer\n",
    "from sklearn.preprocessing import OneHotEncoder\n",
    "\n",
    "# Preprocessing for numerical data\n",
    "numerical_transformer = SimpleImputer(strategy='constant')\n",
    "\n",
    "# Preprocessing for categorical data\n",
    "categorical_transformer = Pipeline(steps=[\n",
    "    ('imputer', SimpleImputer(strategy='most_frequent')),\n",
    "    ('onehot', OneHotEncoder(handle_unknown='ignore'))\n",
    "])\n",
    "\n",
    "# Bundle preprocessing for numerical and categorical data\n",
    "preprocessor = ColumnTransformer(\n",
    "    transformers=[\n",
    "        ('num', numerical_transformer, numerical_cols),\n",
    "        ('cat', categorical_transformer, categorical_cols)\n",
    "    ])\n",
    "\n",
    "\n",
    "model = XGBRegressor()"
   ]
  },
  {
   "cell_type": "code",
   "execution_count": 107,
   "id": "33abebb3",
   "metadata": {
    "execution": {
     "iopub.execute_input": "2022-09-25T13:53:57.404501Z",
     "iopub.status.busy": "2022-09-25T13:53:57.404093Z",
     "iopub.status.idle": "2022-09-25T13:54:00.395889Z",
     "shell.execute_reply": "2022-09-25T13:54:00.394943Z"
    },
    "papermill": {
     "duration": 3.001546,
     "end_time": "2022-09-25T13:54:00.398677",
     "exception": false,
     "start_time": "2022-09-25T13:53:57.397131",
     "status": "completed"
    },
    "tags": []
   },
   "outputs": [],
   "source": [
    "my_pipeline = Pipeline(steps=[('preprocessor', preprocessor),\n",
    "                             ('model', model)\n",
    "                             ])\n",
    "\n",
    "my_pipeline.fit(X_train, y_train)\n",
    "preds = my_pipeline.predict(test)\n",
    "\n",
    "# score = mean_absolute_error(y_train, preds)\n",
    "# print('MAE:', score)"
   ]
  },
  {
   "cell_type": "markdown",
   "id": "d670d166",
   "metadata": {
    "papermill": {
     "duration": 0.005865,
     "end_time": "2022-09-25T13:54:00.411618",
     "exception": false,
     "start_time": "2022-09-25T13:54:00.405753",
     "status": "completed"
    },
    "tags": []
   },
   "source": [
    "# ***Submission***"
   ]
  },
  {
   "cell_type": "code",
   "execution_count": 110,
   "id": "6b04b1ef",
   "metadata": {
    "execution": {
     "iopub.execute_input": "2022-09-25T13:54:00.426026Z",
     "iopub.status.busy": "2022-09-25T13:54:00.425628Z",
     "iopub.status.idle": "2022-09-25T13:54:00.433785Z",
     "shell.execute_reply": "2022-09-25T13:54:00.432705Z"
    },
    "papermill": {
     "duration": 0.01896,
     "end_time": "2022-09-25T13:54:00.437487",
     "exception": false,
     "start_time": "2022-09-25T13:54:00.418527",
     "status": "completed"
    },
    "tags": []
   },
   "outputs": [
    {
     "data": {
      "text/plain": [
       "17520"
      ]
     },
     "execution_count": 110,
     "metadata": {},
     "output_type": "execute_result"
    }
   ],
   "source": [
    "test = pd.read_csv('data/playground_test.csv')\n",
    "\n",
    "Id_list = test['row_id']\n",
    "submission = pd.DataFrame({'row_id': Id_list, 'num_sold': preds})\n",
    "\n",
    "# to_drop = [x for x in range(17520,70128)]\n",
    "\n",
    "# sub = submission.drop(to_drop)\n",
    "\n",
    "# sub.tail()\n",
    "len(submission)"
   ]
  },
  {
   "cell_type": "code",
   "execution_count": null,
   "id": "f2e15ae3",
   "metadata": {
    "execution": {
     "iopub.execute_input": "2022-09-25T13:54:00.451226Z",
     "iopub.status.busy": "2022-09-25T13:54:00.450480Z",
     "iopub.status.idle": "2022-09-25T13:54:00.488500Z",
     "shell.execute_reply": "2022-09-25T13:54:00.487644Z"
    },
    "papermill": {
     "duration": 0.04771,
     "end_time": "2022-09-25T13:54:00.491172",
     "exception": false,
     "start_time": "2022-09-25T13:54:00.443462",
     "status": "completed"
    },
    "tags": []
   },
   "outputs": [],
   "source": [
    "submission.to_csv(\"submission.csv\", index=False)"
   ]
  }
 ],
 "metadata": {
  "kernelspec": {
   "display_name": "Python 3 (ipykernel)",
   "language": "python",
   "name": "python3"
  },
  "language_info": {
   "codemirror_mode": {
    "name": "ipython",
    "version": 3
   },
   "file_extension": ".py",
   "mimetype": "text/x-python",
   "name": "python",
   "nbconvert_exporter": "python",
   "pygments_lexer": "ipython3",
   "version": "3.9.7"
  },
  "papermill": {
   "default_parameters": {},
   "duration": 14.631305,
   "end_time": "2022-09-25T13:54:01.230562",
   "environment_variables": {},
   "exception": null,
   "input_path": "__notebook__.ipynb",
   "output_path": "__notebook__.ipynb",
   "parameters": {},
   "start_time": "2022-09-25T13:53:46.599257",
   "version": "2.3.4"
  }
 },
 "nbformat": 4,
 "nbformat_minor": 5
}
